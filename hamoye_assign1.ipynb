{
  "nbformat": 4,
  "nbformat_minor": 0,
  "metadata": {
    "colab": {
      "provenance": []
    },
    "kernelspec": {
      "name": "python3",
      "display_name": "Python 3"
    },
    "language_info": {
      "name": "python"
    }
  },
  "cells": [
    {
      "cell_type": "code",
      "execution_count": 2,
      "metadata": {
        "id": "gwLrAXzeTHYI"
      },
      "outputs": [],
      "source": [
        "import pandas as pd\n",
        "import numpy as np"
      ]
    },
    {
      "cell_type": "code",
      "source": [
        "df = pd.read_csv('/content/drive/MyDrive/Hamoye_Data/FoodBalanceSheets_E_Africa_NOFLAG.csv', encoding= \"latin-1\")"
      ],
      "metadata": {
        "id": "sGQr3NCETVff"
      },
      "execution_count": 3,
      "outputs": []
    },
    {
      "cell_type": "code",
      "source": [
        "df.head()"
      ],
      "metadata": {
        "colab": {
          "base_uri": "https://localhost:8080/",
          "height": 365
        },
        "id": "Z5EshPalT_df",
        "outputId": "8fc8c975-f842-4fcd-bb02-e155fcb41e8e"
      },
      "execution_count": 5,
      "outputs": [
        {
          "output_type": "execute_result",
          "data": {
            "text/plain": [
              "   Area Code     Area  Item Code         Item  Element Code  \\\n",
              "0          4  Algeria       2501   Population           511   \n",
              "1          4  Algeria       2501   Population          5301   \n",
              "2          4  Algeria       2901  Grand Total           664   \n",
              "3          4  Algeria       2901  Grand Total           674   \n",
              "4          4  Algeria       2901  Grand Total           684   \n",
              "\n",
              "                                  Element             Unit     Y2014  \\\n",
              "0           Total Population - Both sexes     1000 persons  38924.00   \n",
              "1                Domestic supply quantity      1000 tonnes      0.00   \n",
              "2           Food supply (kcal/capita/day)  kcal/capita/day   3377.00   \n",
              "3  Protein supply quantity (g/capita/day)     g/capita/day     94.90   \n",
              "4      Fat supply quantity (g/capita/day)     g/capita/day     80.06   \n",
              "\n",
              "      Y2015     Y2016     Y2017     Y2018  \n",
              "0  39728.00  40551.00  41389.00  42228.00  \n",
              "1      0.00      0.00      0.00      0.00  \n",
              "2   3379.00   3372.00   3341.00   3322.00  \n",
              "3     94.35     94.72     92.82     91.83  \n",
              "4     79.36     77.40     80.19     77.28  "
            ],
            "text/html": [
              "\n",
              "  <div id=\"df-309adbb3-5ac2-43c7-abd6-bc2bf12e0e54\" class=\"colab-df-container\">\n",
              "    <div>\n",
              "<style scoped>\n",
              "    .dataframe tbody tr th:only-of-type {\n",
              "        vertical-align: middle;\n",
              "    }\n",
              "\n",
              "    .dataframe tbody tr th {\n",
              "        vertical-align: top;\n",
              "    }\n",
              "\n",
              "    .dataframe thead th {\n",
              "        text-align: right;\n",
              "    }\n",
              "</style>\n",
              "<table border=\"1\" class=\"dataframe\">\n",
              "  <thead>\n",
              "    <tr style=\"text-align: right;\">\n",
              "      <th></th>\n",
              "      <th>Area Code</th>\n",
              "      <th>Area</th>\n",
              "      <th>Item Code</th>\n",
              "      <th>Item</th>\n",
              "      <th>Element Code</th>\n",
              "      <th>Element</th>\n",
              "      <th>Unit</th>\n",
              "      <th>Y2014</th>\n",
              "      <th>Y2015</th>\n",
              "      <th>Y2016</th>\n",
              "      <th>Y2017</th>\n",
              "      <th>Y2018</th>\n",
              "    </tr>\n",
              "  </thead>\n",
              "  <tbody>\n",
              "    <tr>\n",
              "      <th>0</th>\n",
              "      <td>4</td>\n",
              "      <td>Algeria</td>\n",
              "      <td>2501</td>\n",
              "      <td>Population</td>\n",
              "      <td>511</td>\n",
              "      <td>Total Population - Both sexes</td>\n",
              "      <td>1000 persons</td>\n",
              "      <td>38924.00</td>\n",
              "      <td>39728.00</td>\n",
              "      <td>40551.00</td>\n",
              "      <td>41389.00</td>\n",
              "      <td>42228.00</td>\n",
              "    </tr>\n",
              "    <tr>\n",
              "      <th>1</th>\n",
              "      <td>4</td>\n",
              "      <td>Algeria</td>\n",
              "      <td>2501</td>\n",
              "      <td>Population</td>\n",
              "      <td>5301</td>\n",
              "      <td>Domestic supply quantity</td>\n",
              "      <td>1000 tonnes</td>\n",
              "      <td>0.00</td>\n",
              "      <td>0.00</td>\n",
              "      <td>0.00</td>\n",
              "      <td>0.00</td>\n",
              "      <td>0.00</td>\n",
              "    </tr>\n",
              "    <tr>\n",
              "      <th>2</th>\n",
              "      <td>4</td>\n",
              "      <td>Algeria</td>\n",
              "      <td>2901</td>\n",
              "      <td>Grand Total</td>\n",
              "      <td>664</td>\n",
              "      <td>Food supply (kcal/capita/day)</td>\n",
              "      <td>kcal/capita/day</td>\n",
              "      <td>3377.00</td>\n",
              "      <td>3379.00</td>\n",
              "      <td>3372.00</td>\n",
              "      <td>3341.00</td>\n",
              "      <td>3322.00</td>\n",
              "    </tr>\n",
              "    <tr>\n",
              "      <th>3</th>\n",
              "      <td>4</td>\n",
              "      <td>Algeria</td>\n",
              "      <td>2901</td>\n",
              "      <td>Grand Total</td>\n",
              "      <td>674</td>\n",
              "      <td>Protein supply quantity (g/capita/day)</td>\n",
              "      <td>g/capita/day</td>\n",
              "      <td>94.90</td>\n",
              "      <td>94.35</td>\n",
              "      <td>94.72</td>\n",
              "      <td>92.82</td>\n",
              "      <td>91.83</td>\n",
              "    </tr>\n",
              "    <tr>\n",
              "      <th>4</th>\n",
              "      <td>4</td>\n",
              "      <td>Algeria</td>\n",
              "      <td>2901</td>\n",
              "      <td>Grand Total</td>\n",
              "      <td>684</td>\n",
              "      <td>Fat supply quantity (g/capita/day)</td>\n",
              "      <td>g/capita/day</td>\n",
              "      <td>80.06</td>\n",
              "      <td>79.36</td>\n",
              "      <td>77.40</td>\n",
              "      <td>80.19</td>\n",
              "      <td>77.28</td>\n",
              "    </tr>\n",
              "  </tbody>\n",
              "</table>\n",
              "</div>\n",
              "    <div class=\"colab-df-buttons\">\n",
              "\n",
              "  <div class=\"colab-df-container\">\n",
              "    <button class=\"colab-df-convert\" onclick=\"convertToInteractive('df-309adbb3-5ac2-43c7-abd6-bc2bf12e0e54')\"\n",
              "            title=\"Convert this dataframe to an interactive table.\"\n",
              "            style=\"display:none;\">\n",
              "\n",
              "  <svg xmlns=\"http://www.w3.org/2000/svg\" height=\"24px\" viewBox=\"0 -960 960 960\">\n",
              "    <path d=\"M120-120v-720h720v720H120Zm60-500h600v-160H180v160Zm220 220h160v-160H400v160Zm0 220h160v-160H400v160ZM180-400h160v-160H180v160Zm440 0h160v-160H620v160ZM180-180h160v-160H180v160Zm440 0h160v-160H620v160Z\"/>\n",
              "  </svg>\n",
              "    </button>\n",
              "\n",
              "  <style>\n",
              "    .colab-df-container {\n",
              "      display:flex;\n",
              "      gap: 12px;\n",
              "    }\n",
              "\n",
              "    .colab-df-convert {\n",
              "      background-color: #E8F0FE;\n",
              "      border: none;\n",
              "      border-radius: 50%;\n",
              "      cursor: pointer;\n",
              "      display: none;\n",
              "      fill: #1967D2;\n",
              "      height: 32px;\n",
              "      padding: 0 0 0 0;\n",
              "      width: 32px;\n",
              "    }\n",
              "\n",
              "    .colab-df-convert:hover {\n",
              "      background-color: #E2EBFA;\n",
              "      box-shadow: 0px 1px 2px rgba(60, 64, 67, 0.3), 0px 1px 3px 1px rgba(60, 64, 67, 0.15);\n",
              "      fill: #174EA6;\n",
              "    }\n",
              "\n",
              "    .colab-df-buttons div {\n",
              "      margin-bottom: 4px;\n",
              "    }\n",
              "\n",
              "    [theme=dark] .colab-df-convert {\n",
              "      background-color: #3B4455;\n",
              "      fill: #D2E3FC;\n",
              "    }\n",
              "\n",
              "    [theme=dark] .colab-df-convert:hover {\n",
              "      background-color: #434B5C;\n",
              "      box-shadow: 0px 1px 3px 1px rgba(0, 0, 0, 0.15);\n",
              "      filter: drop-shadow(0px 1px 2px rgba(0, 0, 0, 0.3));\n",
              "      fill: #FFFFFF;\n",
              "    }\n",
              "  </style>\n",
              "\n",
              "    <script>\n",
              "      const buttonEl =\n",
              "        document.querySelector('#df-309adbb3-5ac2-43c7-abd6-bc2bf12e0e54 button.colab-df-convert');\n",
              "      buttonEl.style.display =\n",
              "        google.colab.kernel.accessAllowed ? 'block' : 'none';\n",
              "\n",
              "      async function convertToInteractive(key) {\n",
              "        const element = document.querySelector('#df-309adbb3-5ac2-43c7-abd6-bc2bf12e0e54');\n",
              "        const dataTable =\n",
              "          await google.colab.kernel.invokeFunction('convertToInteractive',\n",
              "                                                    [key], {});\n",
              "        if (!dataTable) return;\n",
              "\n",
              "        const docLinkHtml = 'Like what you see? Visit the ' +\n",
              "          '<a target=\"_blank\" href=https://colab.research.google.com/notebooks/data_table.ipynb>data table notebook</a>'\n",
              "          + ' to learn more about interactive tables.';\n",
              "        element.innerHTML = '';\n",
              "        dataTable['output_type'] = 'display_data';\n",
              "        await google.colab.output.renderOutput(dataTable, element);\n",
              "        const docLink = document.createElement('div');\n",
              "        docLink.innerHTML = docLinkHtml;\n",
              "        element.appendChild(docLink);\n",
              "      }\n",
              "    </script>\n",
              "  </div>\n",
              "\n",
              "\n",
              "<div id=\"df-f8a4b1d6-3780-4ab3-b00e-0baad40ebc50\">\n",
              "  <button class=\"colab-df-quickchart\" onclick=\"quickchart('df-f8a4b1d6-3780-4ab3-b00e-0baad40ebc50')\"\n",
              "            title=\"Suggest charts\"\n",
              "            style=\"display:none;\">\n",
              "\n",
              "<svg xmlns=\"http://www.w3.org/2000/svg\" height=\"24px\"viewBox=\"0 0 24 24\"\n",
              "     width=\"24px\">\n",
              "    <g>\n",
              "        <path d=\"M19 3H5c-1.1 0-2 .9-2 2v14c0 1.1.9 2 2 2h14c1.1 0 2-.9 2-2V5c0-1.1-.9-2-2-2zM9 17H7v-7h2v7zm4 0h-2V7h2v10zm4 0h-2v-4h2v4z\"/>\n",
              "    </g>\n",
              "</svg>\n",
              "  </button>\n",
              "\n",
              "<style>\n",
              "  .colab-df-quickchart {\n",
              "      --bg-color: #E8F0FE;\n",
              "      --fill-color: #1967D2;\n",
              "      --hover-bg-color: #E2EBFA;\n",
              "      --hover-fill-color: #174EA6;\n",
              "      --disabled-fill-color: #AAA;\n",
              "      --disabled-bg-color: #DDD;\n",
              "  }\n",
              "\n",
              "  [theme=dark] .colab-df-quickchart {\n",
              "      --bg-color: #3B4455;\n",
              "      --fill-color: #D2E3FC;\n",
              "      --hover-bg-color: #434B5C;\n",
              "      --hover-fill-color: #FFFFFF;\n",
              "      --disabled-bg-color: #3B4455;\n",
              "      --disabled-fill-color: #666;\n",
              "  }\n",
              "\n",
              "  .colab-df-quickchart {\n",
              "    background-color: var(--bg-color);\n",
              "    border: none;\n",
              "    border-radius: 50%;\n",
              "    cursor: pointer;\n",
              "    display: none;\n",
              "    fill: var(--fill-color);\n",
              "    height: 32px;\n",
              "    padding: 0;\n",
              "    width: 32px;\n",
              "  }\n",
              "\n",
              "  .colab-df-quickchart:hover {\n",
              "    background-color: var(--hover-bg-color);\n",
              "    box-shadow: 0 1px 2px rgba(60, 64, 67, 0.3), 0 1px 3px 1px rgba(60, 64, 67, 0.15);\n",
              "    fill: var(--button-hover-fill-color);\n",
              "  }\n",
              "\n",
              "  .colab-df-quickchart-complete:disabled,\n",
              "  .colab-df-quickchart-complete:disabled:hover {\n",
              "    background-color: var(--disabled-bg-color);\n",
              "    fill: var(--disabled-fill-color);\n",
              "    box-shadow: none;\n",
              "  }\n",
              "\n",
              "  .colab-df-spinner {\n",
              "    border: 2px solid var(--fill-color);\n",
              "    border-color: transparent;\n",
              "    border-bottom-color: var(--fill-color);\n",
              "    animation:\n",
              "      spin 1s steps(1) infinite;\n",
              "  }\n",
              "\n",
              "  @keyframes spin {\n",
              "    0% {\n",
              "      border-color: transparent;\n",
              "      border-bottom-color: var(--fill-color);\n",
              "      border-left-color: var(--fill-color);\n",
              "    }\n",
              "    20% {\n",
              "      border-color: transparent;\n",
              "      border-left-color: var(--fill-color);\n",
              "      border-top-color: var(--fill-color);\n",
              "    }\n",
              "    30% {\n",
              "      border-color: transparent;\n",
              "      border-left-color: var(--fill-color);\n",
              "      border-top-color: var(--fill-color);\n",
              "      border-right-color: var(--fill-color);\n",
              "    }\n",
              "    40% {\n",
              "      border-color: transparent;\n",
              "      border-right-color: var(--fill-color);\n",
              "      border-top-color: var(--fill-color);\n",
              "    }\n",
              "    60% {\n",
              "      border-color: transparent;\n",
              "      border-right-color: var(--fill-color);\n",
              "    }\n",
              "    80% {\n",
              "      border-color: transparent;\n",
              "      border-right-color: var(--fill-color);\n",
              "      border-bottom-color: var(--fill-color);\n",
              "    }\n",
              "    90% {\n",
              "      border-color: transparent;\n",
              "      border-bottom-color: var(--fill-color);\n",
              "    }\n",
              "  }\n",
              "</style>\n",
              "\n",
              "  <script>\n",
              "    async function quickchart(key) {\n",
              "      const quickchartButtonEl =\n",
              "        document.querySelector('#' + key + ' button');\n",
              "      quickchartButtonEl.disabled = true;  // To prevent multiple clicks.\n",
              "      quickchartButtonEl.classList.add('colab-df-spinner');\n",
              "      try {\n",
              "        const charts = await google.colab.kernel.invokeFunction(\n",
              "            'suggestCharts', [key], {});\n",
              "      } catch (error) {\n",
              "        console.error('Error during call to suggestCharts:', error);\n",
              "      }\n",
              "      quickchartButtonEl.classList.remove('colab-df-spinner');\n",
              "      quickchartButtonEl.classList.add('colab-df-quickchart-complete');\n",
              "    }\n",
              "    (() => {\n",
              "      let quickchartButtonEl =\n",
              "        document.querySelector('#df-f8a4b1d6-3780-4ab3-b00e-0baad40ebc50 button');\n",
              "      quickchartButtonEl.style.display =\n",
              "        google.colab.kernel.accessAllowed ? 'block' : 'none';\n",
              "    })();\n",
              "  </script>\n",
              "</div>\n",
              "\n",
              "    </div>\n",
              "  </div>\n"
            ],
            "application/vnd.google.colaboratory.intrinsic+json": {
              "type": "dataframe",
              "variable_name": "df",
              "summary": "{\n  \"name\": \"df\",\n  \"rows\": 60943,\n  \"fields\": [\n    {\n      \"column\": \"Area Code\",\n      \"properties\": {\n        \"dtype\": \"number\",\n        \"std\": 72,\n        \"min\": 4,\n        \"max\": 276,\n        \"num_unique_values\": 49,\n        \"samples\": [\n          59,\n          226,\n          251\n        ],\n        \"semantic_type\": \"\",\n        \"description\": \"\"\n      }\n    },\n    {\n      \"column\": \"Area\",\n      \"properties\": {\n        \"dtype\": \"category\",\n        \"num_unique_values\": 49,\n        \"samples\": [\n          \"Egypt\",\n          \"Uganda\",\n          \"Zambia\"\n        ],\n        \"semantic_type\": \"\",\n        \"description\": \"\"\n      }\n    },\n    {\n      \"column\": \"Item Code\",\n      \"properties\": {\n        \"dtype\": \"number\",\n        \"std\": 146,\n        \"min\": 2501,\n        \"max\": 2961,\n        \"num_unique_values\": 122,\n        \"samples\": [\n          2535,\n          2572,\n          2574\n        ],\n        \"semantic_type\": \"\",\n        \"description\": \"\"\n      }\n    },\n    {\n      \"column\": \"Item\",\n      \"properties\": {\n        \"dtype\": \"category\",\n        \"num_unique_values\": 119,\n        \"samples\": [\n          \"Vegetables\",\n          \"Mutton & Goat Meat\",\n          \"Cereals - Excluding Beer\"\n        ],\n        \"semantic_type\": \"\",\n        \"description\": \"\"\n      }\n    },\n    {\n      \"column\": \"Element Code\",\n      \"properties\": {\n        \"dtype\": \"number\",\n        \"std\": 2212,\n        \"min\": 511,\n        \"max\": 5911,\n        \"num_unique_values\": 18,\n        \"samples\": [\n          511,\n          5301,\n          5911\n        ],\n        \"semantic_type\": \"\",\n        \"description\": \"\"\n      }\n    },\n    {\n      \"column\": \"Element\",\n      \"properties\": {\n        \"dtype\": \"category\",\n        \"num_unique_values\": 18,\n        \"samples\": [\n          \"Total Population - Both sexes\",\n          \"Domestic supply quantity\",\n          \"Export Quantity\"\n        ],\n        \"semantic_type\": \"\",\n        \"description\": \"\"\n      }\n    },\n    {\n      \"column\": \"Unit\",\n      \"properties\": {\n        \"dtype\": \"category\",\n        \"num_unique_values\": 5,\n        \"samples\": [\n          \"1000 tonnes\",\n          \"kg\",\n          \"kcal/capita/day\"\n        ],\n        \"semantic_type\": \"\",\n        \"description\": \"\"\n      }\n    },\n    {\n      \"column\": \"Y2014\",\n      \"properties\": {\n        \"dtype\": \"number\",\n        \"std\": 1567.6636958596291,\n        \"min\": -1796.0,\n        \"max\": 176405.0,\n        \"num_unique_values\": 4493,\n        \"samples\": [\n          419.0,\n          11.4,\n          627.0\n        ],\n        \"semantic_type\": \"\",\n        \"description\": \"\"\n      }\n    },\n    {\n      \"column\": \"Y2015\",\n      \"properties\": {\n        \"dtype\": \"number\",\n        \"std\": 1603.4039839425013,\n        \"min\": -3161.0,\n        \"max\": 181137.0,\n        \"num_unique_values\": 4520,\n        \"samples\": [\n          17.78,\n          2.05,\n          12.87\n        ],\n        \"semantic_type\": \"\",\n        \"description\": \"\"\n      }\n    },\n    {\n      \"column\": \"Y2016\",\n      \"properties\": {\n        \"dtype\": \"number\",\n        \"std\": 1640.0071942668192,\n        \"min\": -3225.0,\n        \"max\": 185960.0,\n        \"num_unique_values\": 4520,\n        \"samples\": [\n          27.24,\n          25.47,\n          1217.0\n        ],\n        \"semantic_type\": \"\",\n        \"description\": \"\"\n      }\n    },\n    {\n      \"column\": \"Y2017\",\n      \"properties\": {\n        \"dtype\": \"number\",\n        \"std\": 1671.8623590567995,\n        \"min\": -1582.0,\n        \"max\": 190873.0,\n        \"num_unique_values\": 4537,\n        \"samples\": [\n          33.31,\n          1.24,\n          1649.0\n        ],\n        \"semantic_type\": \"\",\n        \"description\": \"\"\n      }\n    },\n    {\n      \"column\": \"Y2018\",\n      \"properties\": {\n        \"dtype\": \"number\",\n        \"std\": 1710.7826580361848,\n        \"min\": -3396.0,\n        \"max\": 195875.0,\n        \"num_unique_values\": 4591,\n        \"samples\": [\n          31.85,\n          7.5,\n          14.52\n        ],\n        \"semantic_type\": \"\",\n        \"description\": \"\"\n      }\n    }\n  ]\n}"
            }
          },
          "metadata": {},
          "execution_count": 5
        }
      ]
    },
    {
      "cell_type": "markdown",
      "source": [
        "# QUESTION 1:\n",
        "\n",
        "Consider the following list of tuples:\n",
        "\n",
        "y = [(2, 4), (7, 8), (1, 5, 9)]\n",
        "\n",
        "How would you assign element 8 from the list to a variable x?"
      ],
      "metadata": {
        "id": "hvtNKyyy3woQ"
      }
    },
    {
      "cell_type": "code",
      "source": [
        "y = [(2, 4), (7, 8), (1, 5, 9)]\n",
        "x = y[1][1]\n",
        "print(x)"
      ],
      "metadata": {
        "colab": {
          "base_uri": "https://localhost:8080/"
        },
        "id": "vJOjgpFB3wFi",
        "outputId": "304661e1-1458-4e7a-eb9f-5f6f22dccbd9"
      },
      "execution_count": 36,
      "outputs": [
        {
          "output_type": "stream",
          "name": "stdout",
          "text": [
            "8\n"
          ]
        }
      ]
    },
    {
      "cell_type": "markdown",
      "source": [
        "# QUESTION 2:\n",
        "\n",
        "What is the total number and percentage of missing data in 2014 to 3 decimal places?"
      ],
      "metadata": {
        "id": "lWKF-VA53_fT"
      }
    },
    {
      "cell_type": "code",
      "source": [
        "missing_2014 = df['Y2014'].isnull().sum()\n",
        "\n",
        "total_entries = len(df)\n",
        "percentage_missing_2014 = (missing_2014 / total_entries) * 100\n",
        "\n",
        "print(\"Total number of missing data in 2014:\", missing_2014)\n",
        "\n",
        "print(\"Percentage of missing data in 2014: {:.3f}%\".format(percentage_missing_2014))"
      ],
      "metadata": {
        "colab": {
          "base_uri": "https://localhost:8080/"
        },
        "id": "jUZBBtqSVdJY",
        "outputId": "07a07f3b-cb98-404b-d7cd-717ff4d89ccc"
      },
      "execution_count": 31,
      "outputs": [
        {
          "output_type": "stream",
          "name": "stdout",
          "text": [
            "Total number of missing data in 2014: 1589\n",
            "Percentage of missing data in 2014: 2.607%\n"
          ]
        }
      ]
    },
    {
      "cell_type": "markdown",
      "source": [
        "# QUESTION 3:\n",
        "\n",
        "Select columns ‘Y2017’ and ‘Area’, Perform a groupby operation on ‘Area’.  Which of these Areas had the 7th lowest sum in 2017?"
      ],
      "metadata": {
        "id": "wlIraM895lS5"
      }
    },
    {
      "cell_type": "code",
      "source": [
        "selected_data = df[['Y2017', 'Area']]\n",
        "\n",
        "# Group by 'Area' and sum the 'Y2017' values\n",
        "sum_by_area = selected_data.groupby('Area')['Y2017'].sum()\n",
        "\n",
        "# Sort the sums in ascending order\n",
        "sorted_sums = sum_by_area.sort_values()\n",
        "\n",
        "# Select the 7th lowest sum and retrieve the corresponding Area name\n",
        "seventh_lowest_area = sorted_sums.index[6]\n",
        "\n",
        "print(\"Area with the 7th lowest sum in 2017:\", seventh_lowest_area)"
      ],
      "metadata": {
        "colab": {
          "base_uri": "https://localhost:8080/"
        },
        "id": "HNtVJi57WFR4",
        "outputId": "b810051d-294e-46bf-f9d2-c98d038bde3c"
      },
      "execution_count": 30,
      "outputs": [
        {
          "output_type": "stream",
          "name": "stdout",
          "text": [
            "Area with the 7th lowest sum in 2017: Guinea-Bissau\n"
          ]
        }
      ]
    },
    {
      "cell_type": "markdown",
      "source": [
        "# QUESTION 4:\n",
        "\n",
        "Perform a groupby operation on ‘Element’.  What is the total number of the sum of Processing in 2017?"
      ],
      "metadata": {
        "id": "ORCn_U506KcZ"
      }
    },
    {
      "cell_type": "code",
      "source": [
        "selected_data = df[['Element', 'Y2017']]\n",
        "\n",
        "# Group by 'Element' and sum the 'Y2017' values\n",
        "sum_by_element = selected_data.groupby('Element')['Y2017'].sum()\n",
        "\n",
        "# Select the sum corresponding to 'Processing'\n",
        "processing_sum_2017 = sum_by_element.get('Processing', 0)  # Default value 0 if 'Processing' is not found\n",
        "\n",
        "print(\"Total sum of Processing in 2017:\", processing_sum_2017)"
      ],
      "metadata": {
        "colab": {
          "base_uri": "https://localhost:8080/"
        },
        "id": "mmcXONQYWoZR",
        "outputId": "6ca8b29a-14ce-486e-c601-d278ef6be624"
      },
      "execution_count": 29,
      "outputs": [
        {
          "output_type": "stream",
          "name": "stdout",
          "text": [
            "Total sum of Processing in 2017: 292836.0\n"
          ]
        }
      ]
    },
    {
      "cell_type": "markdown",
      "source": [
        "# QUESTION 5:\n",
        "\n",
        "Which of the following dataframe methods can be used to access elements across rows and columns?"
      ],
      "metadata": {
        "id": "Pm-7SPj46hZT"
      }
    },
    {
      "cell_type": "code",
      "source": [
        "df.iloc[ 2:7 ]"
      ],
      "metadata": {
        "colab": {
          "base_uri": "https://localhost:8080/",
          "height": 345
        },
        "id": "m1wUbh3F6zZY",
        "outputId": "c1fb94db-0638-4ef2-8166-25b56eae073b"
      },
      "execution_count": 41,
      "outputs": [
        {
          "output_type": "execute_result",
          "data": {
            "text/plain": [
              "   Area Code     Area  Item Code              Item  Element Code  \\\n",
              "2          4  Algeria       2901       Grand Total           664   \n",
              "3          4  Algeria       2901       Grand Total           674   \n",
              "4          4  Algeria       2901       Grand Total           684   \n",
              "5          4  Algeria       2903  Vegetal Products           664   \n",
              "6          4  Algeria       2903  Vegetal Products           674   \n",
              "\n",
              "                                  Element             Unit    Y2014    Y2015  \\\n",
              "2           Food supply (kcal/capita/day)  kcal/capita/day  3377.00  3379.00   \n",
              "3  Protein supply quantity (g/capita/day)     g/capita/day    94.90    94.35   \n",
              "4      Fat supply quantity (g/capita/day)     g/capita/day    80.06    79.36   \n",
              "5           Food supply (kcal/capita/day)  kcal/capita/day  2932.00  2958.00   \n",
              "6  Protein supply quantity (g/capita/day)     g/capita/day    67.14    67.38   \n",
              "\n",
              "     Y2016    Y2017    Y2018  \n",
              "2  3372.00  3341.00  3322.00  \n",
              "3    94.72    92.82    91.83  \n",
              "4    77.40    80.19    77.28  \n",
              "5  2941.00  2921.00  2932.00  \n",
              "6    67.37    66.11    67.10  "
            ],
            "text/html": [
              "\n",
              "  <div id=\"df-7480d6a0-ccfd-4bee-879d-b7fbb77dd150\" class=\"colab-df-container\">\n",
              "    <div>\n",
              "<style scoped>\n",
              "    .dataframe tbody tr th:only-of-type {\n",
              "        vertical-align: middle;\n",
              "    }\n",
              "\n",
              "    .dataframe tbody tr th {\n",
              "        vertical-align: top;\n",
              "    }\n",
              "\n",
              "    .dataframe thead th {\n",
              "        text-align: right;\n",
              "    }\n",
              "</style>\n",
              "<table border=\"1\" class=\"dataframe\">\n",
              "  <thead>\n",
              "    <tr style=\"text-align: right;\">\n",
              "      <th></th>\n",
              "      <th>Area Code</th>\n",
              "      <th>Area</th>\n",
              "      <th>Item Code</th>\n",
              "      <th>Item</th>\n",
              "      <th>Element Code</th>\n",
              "      <th>Element</th>\n",
              "      <th>Unit</th>\n",
              "      <th>Y2014</th>\n",
              "      <th>Y2015</th>\n",
              "      <th>Y2016</th>\n",
              "      <th>Y2017</th>\n",
              "      <th>Y2018</th>\n",
              "    </tr>\n",
              "  </thead>\n",
              "  <tbody>\n",
              "    <tr>\n",
              "      <th>2</th>\n",
              "      <td>4</td>\n",
              "      <td>Algeria</td>\n",
              "      <td>2901</td>\n",
              "      <td>Grand Total</td>\n",
              "      <td>664</td>\n",
              "      <td>Food supply (kcal/capita/day)</td>\n",
              "      <td>kcal/capita/day</td>\n",
              "      <td>3377.00</td>\n",
              "      <td>3379.00</td>\n",
              "      <td>3372.00</td>\n",
              "      <td>3341.00</td>\n",
              "      <td>3322.00</td>\n",
              "    </tr>\n",
              "    <tr>\n",
              "      <th>3</th>\n",
              "      <td>4</td>\n",
              "      <td>Algeria</td>\n",
              "      <td>2901</td>\n",
              "      <td>Grand Total</td>\n",
              "      <td>674</td>\n",
              "      <td>Protein supply quantity (g/capita/day)</td>\n",
              "      <td>g/capita/day</td>\n",
              "      <td>94.90</td>\n",
              "      <td>94.35</td>\n",
              "      <td>94.72</td>\n",
              "      <td>92.82</td>\n",
              "      <td>91.83</td>\n",
              "    </tr>\n",
              "    <tr>\n",
              "      <th>4</th>\n",
              "      <td>4</td>\n",
              "      <td>Algeria</td>\n",
              "      <td>2901</td>\n",
              "      <td>Grand Total</td>\n",
              "      <td>684</td>\n",
              "      <td>Fat supply quantity (g/capita/day)</td>\n",
              "      <td>g/capita/day</td>\n",
              "      <td>80.06</td>\n",
              "      <td>79.36</td>\n",
              "      <td>77.40</td>\n",
              "      <td>80.19</td>\n",
              "      <td>77.28</td>\n",
              "    </tr>\n",
              "    <tr>\n",
              "      <th>5</th>\n",
              "      <td>4</td>\n",
              "      <td>Algeria</td>\n",
              "      <td>2903</td>\n",
              "      <td>Vegetal Products</td>\n",
              "      <td>664</td>\n",
              "      <td>Food supply (kcal/capita/day)</td>\n",
              "      <td>kcal/capita/day</td>\n",
              "      <td>2932.00</td>\n",
              "      <td>2958.00</td>\n",
              "      <td>2941.00</td>\n",
              "      <td>2921.00</td>\n",
              "      <td>2932.00</td>\n",
              "    </tr>\n",
              "    <tr>\n",
              "      <th>6</th>\n",
              "      <td>4</td>\n",
              "      <td>Algeria</td>\n",
              "      <td>2903</td>\n",
              "      <td>Vegetal Products</td>\n",
              "      <td>674</td>\n",
              "      <td>Protein supply quantity (g/capita/day)</td>\n",
              "      <td>g/capita/day</td>\n",
              "      <td>67.14</td>\n",
              "      <td>67.38</td>\n",
              "      <td>67.37</td>\n",
              "      <td>66.11</td>\n",
              "      <td>67.10</td>\n",
              "    </tr>\n",
              "  </tbody>\n",
              "</table>\n",
              "</div>\n",
              "    <div class=\"colab-df-buttons\">\n",
              "\n",
              "  <div class=\"colab-df-container\">\n",
              "    <button class=\"colab-df-convert\" onclick=\"convertToInteractive('df-7480d6a0-ccfd-4bee-879d-b7fbb77dd150')\"\n",
              "            title=\"Convert this dataframe to an interactive table.\"\n",
              "            style=\"display:none;\">\n",
              "\n",
              "  <svg xmlns=\"http://www.w3.org/2000/svg\" height=\"24px\" viewBox=\"0 -960 960 960\">\n",
              "    <path d=\"M120-120v-720h720v720H120Zm60-500h600v-160H180v160Zm220 220h160v-160H400v160Zm0 220h160v-160H400v160ZM180-400h160v-160H180v160Zm440 0h160v-160H620v160ZM180-180h160v-160H180v160Zm440 0h160v-160H620v160Z\"/>\n",
              "  </svg>\n",
              "    </button>\n",
              "\n",
              "  <style>\n",
              "    .colab-df-container {\n",
              "      display:flex;\n",
              "      gap: 12px;\n",
              "    }\n",
              "\n",
              "    .colab-df-convert {\n",
              "      background-color: #E8F0FE;\n",
              "      border: none;\n",
              "      border-radius: 50%;\n",
              "      cursor: pointer;\n",
              "      display: none;\n",
              "      fill: #1967D2;\n",
              "      height: 32px;\n",
              "      padding: 0 0 0 0;\n",
              "      width: 32px;\n",
              "    }\n",
              "\n",
              "    .colab-df-convert:hover {\n",
              "      background-color: #E2EBFA;\n",
              "      box-shadow: 0px 1px 2px rgba(60, 64, 67, 0.3), 0px 1px 3px 1px rgba(60, 64, 67, 0.15);\n",
              "      fill: #174EA6;\n",
              "    }\n",
              "\n",
              "    .colab-df-buttons div {\n",
              "      margin-bottom: 4px;\n",
              "    }\n",
              "\n",
              "    [theme=dark] .colab-df-convert {\n",
              "      background-color: #3B4455;\n",
              "      fill: #D2E3FC;\n",
              "    }\n",
              "\n",
              "    [theme=dark] .colab-df-convert:hover {\n",
              "      background-color: #434B5C;\n",
              "      box-shadow: 0px 1px 3px 1px rgba(0, 0, 0, 0.15);\n",
              "      filter: drop-shadow(0px 1px 2px rgba(0, 0, 0, 0.3));\n",
              "      fill: #FFFFFF;\n",
              "    }\n",
              "  </style>\n",
              "\n",
              "    <script>\n",
              "      const buttonEl =\n",
              "        document.querySelector('#df-7480d6a0-ccfd-4bee-879d-b7fbb77dd150 button.colab-df-convert');\n",
              "      buttonEl.style.display =\n",
              "        google.colab.kernel.accessAllowed ? 'block' : 'none';\n",
              "\n",
              "      async function convertToInteractive(key) {\n",
              "        const element = document.querySelector('#df-7480d6a0-ccfd-4bee-879d-b7fbb77dd150');\n",
              "        const dataTable =\n",
              "          await google.colab.kernel.invokeFunction('convertToInteractive',\n",
              "                                                    [key], {});\n",
              "        if (!dataTable) return;\n",
              "\n",
              "        const docLinkHtml = 'Like what you see? Visit the ' +\n",
              "          '<a target=\"_blank\" href=https://colab.research.google.com/notebooks/data_table.ipynb>data table notebook</a>'\n",
              "          + ' to learn more about interactive tables.';\n",
              "        element.innerHTML = '';\n",
              "        dataTable['output_type'] = 'display_data';\n",
              "        await google.colab.output.renderOutput(dataTable, element);\n",
              "        const docLink = document.createElement('div');\n",
              "        docLink.innerHTML = docLinkHtml;\n",
              "        element.appendChild(docLink);\n",
              "      }\n",
              "    </script>\n",
              "  </div>\n",
              "\n",
              "\n",
              "<div id=\"df-04cbfa13-bc44-4ac8-a07f-ed2124a75ee5\">\n",
              "  <button class=\"colab-df-quickchart\" onclick=\"quickchart('df-04cbfa13-bc44-4ac8-a07f-ed2124a75ee5')\"\n",
              "            title=\"Suggest charts\"\n",
              "            style=\"display:none;\">\n",
              "\n",
              "<svg xmlns=\"http://www.w3.org/2000/svg\" height=\"24px\"viewBox=\"0 0 24 24\"\n",
              "     width=\"24px\">\n",
              "    <g>\n",
              "        <path d=\"M19 3H5c-1.1 0-2 .9-2 2v14c0 1.1.9 2 2 2h14c1.1 0 2-.9 2-2V5c0-1.1-.9-2-2-2zM9 17H7v-7h2v7zm4 0h-2V7h2v10zm4 0h-2v-4h2v4z\"/>\n",
              "    </g>\n",
              "</svg>\n",
              "  </button>\n",
              "\n",
              "<style>\n",
              "  .colab-df-quickchart {\n",
              "      --bg-color: #E8F0FE;\n",
              "      --fill-color: #1967D2;\n",
              "      --hover-bg-color: #E2EBFA;\n",
              "      --hover-fill-color: #174EA6;\n",
              "      --disabled-fill-color: #AAA;\n",
              "      --disabled-bg-color: #DDD;\n",
              "  }\n",
              "\n",
              "  [theme=dark] .colab-df-quickchart {\n",
              "      --bg-color: #3B4455;\n",
              "      --fill-color: #D2E3FC;\n",
              "      --hover-bg-color: #434B5C;\n",
              "      --hover-fill-color: #FFFFFF;\n",
              "      --disabled-bg-color: #3B4455;\n",
              "      --disabled-fill-color: #666;\n",
              "  }\n",
              "\n",
              "  .colab-df-quickchart {\n",
              "    background-color: var(--bg-color);\n",
              "    border: none;\n",
              "    border-radius: 50%;\n",
              "    cursor: pointer;\n",
              "    display: none;\n",
              "    fill: var(--fill-color);\n",
              "    height: 32px;\n",
              "    padding: 0;\n",
              "    width: 32px;\n",
              "  }\n",
              "\n",
              "  .colab-df-quickchart:hover {\n",
              "    background-color: var(--hover-bg-color);\n",
              "    box-shadow: 0 1px 2px rgba(60, 64, 67, 0.3), 0 1px 3px 1px rgba(60, 64, 67, 0.15);\n",
              "    fill: var(--button-hover-fill-color);\n",
              "  }\n",
              "\n",
              "  .colab-df-quickchart-complete:disabled,\n",
              "  .colab-df-quickchart-complete:disabled:hover {\n",
              "    background-color: var(--disabled-bg-color);\n",
              "    fill: var(--disabled-fill-color);\n",
              "    box-shadow: none;\n",
              "  }\n",
              "\n",
              "  .colab-df-spinner {\n",
              "    border: 2px solid var(--fill-color);\n",
              "    border-color: transparent;\n",
              "    border-bottom-color: var(--fill-color);\n",
              "    animation:\n",
              "      spin 1s steps(1) infinite;\n",
              "  }\n",
              "\n",
              "  @keyframes spin {\n",
              "    0% {\n",
              "      border-color: transparent;\n",
              "      border-bottom-color: var(--fill-color);\n",
              "      border-left-color: var(--fill-color);\n",
              "    }\n",
              "    20% {\n",
              "      border-color: transparent;\n",
              "      border-left-color: var(--fill-color);\n",
              "      border-top-color: var(--fill-color);\n",
              "    }\n",
              "    30% {\n",
              "      border-color: transparent;\n",
              "      border-left-color: var(--fill-color);\n",
              "      border-top-color: var(--fill-color);\n",
              "      border-right-color: var(--fill-color);\n",
              "    }\n",
              "    40% {\n",
              "      border-color: transparent;\n",
              "      border-right-color: var(--fill-color);\n",
              "      border-top-color: var(--fill-color);\n",
              "    }\n",
              "    60% {\n",
              "      border-color: transparent;\n",
              "      border-right-color: var(--fill-color);\n",
              "    }\n",
              "    80% {\n",
              "      border-color: transparent;\n",
              "      border-right-color: var(--fill-color);\n",
              "      border-bottom-color: var(--fill-color);\n",
              "    }\n",
              "    90% {\n",
              "      border-color: transparent;\n",
              "      border-bottom-color: var(--fill-color);\n",
              "    }\n",
              "  }\n",
              "</style>\n",
              "\n",
              "  <script>\n",
              "    async function quickchart(key) {\n",
              "      const quickchartButtonEl =\n",
              "        document.querySelector('#' + key + ' button');\n",
              "      quickchartButtonEl.disabled = true;  // To prevent multiple clicks.\n",
              "      quickchartButtonEl.classList.add('colab-df-spinner');\n",
              "      try {\n",
              "        const charts = await google.colab.kernel.invokeFunction(\n",
              "            'suggestCharts', [key], {});\n",
              "      } catch (error) {\n",
              "        console.error('Error during call to suggestCharts:', error);\n",
              "      }\n",
              "      quickchartButtonEl.classList.remove('colab-df-spinner');\n",
              "      quickchartButtonEl.classList.add('colab-df-quickchart-complete');\n",
              "    }\n",
              "    (() => {\n",
              "      let quickchartButtonEl =\n",
              "        document.querySelector('#df-04cbfa13-bc44-4ac8-a07f-ed2124a75ee5 button');\n",
              "      quickchartButtonEl.style.display =\n",
              "        google.colab.kernel.accessAllowed ? 'block' : 'none';\n",
              "    })();\n",
              "  </script>\n",
              "</div>\n",
              "\n",
              "    </div>\n",
              "  </div>\n"
            ],
            "application/vnd.google.colaboratory.intrinsic+json": {
              "type": "dataframe",
              "summary": "{\n  \"name\": \"df\",\n  \"rows\": 5,\n  \"fields\": [\n    {\n      \"column\": \"Area Code\",\n      \"properties\": {\n        \"dtype\": \"number\",\n        \"std\": 0,\n        \"min\": 4,\n        \"max\": 4,\n        \"num_unique_values\": 1,\n        \"samples\": [\n          4\n        ],\n        \"semantic_type\": \"\",\n        \"description\": \"\"\n      }\n    },\n    {\n      \"column\": \"Area\",\n      \"properties\": {\n        \"dtype\": \"category\",\n        \"num_unique_values\": 1,\n        \"samples\": [\n          \"Algeria\"\n        ],\n        \"semantic_type\": \"\",\n        \"description\": \"\"\n      }\n    },\n    {\n      \"column\": \"Item Code\",\n      \"properties\": {\n        \"dtype\": \"number\",\n        \"std\": 1,\n        \"min\": 2901,\n        \"max\": 2903,\n        \"num_unique_values\": 2,\n        \"samples\": [\n          2903\n        ],\n        \"semantic_type\": \"\",\n        \"description\": \"\"\n      }\n    },\n    {\n      \"column\": \"Item\",\n      \"properties\": {\n        \"dtype\": \"category\",\n        \"num_unique_values\": 2,\n        \"samples\": [\n          \"Vegetal Products\"\n        ],\n        \"semantic_type\": \"\",\n        \"description\": \"\"\n      }\n    },\n    {\n      \"column\": \"Element Code\",\n      \"properties\": {\n        \"dtype\": \"number\",\n        \"std\": 8,\n        \"min\": 664,\n        \"max\": 684,\n        \"num_unique_values\": 3,\n        \"samples\": [\n          664\n        ],\n        \"semantic_type\": \"\",\n        \"description\": \"\"\n      }\n    },\n    {\n      \"column\": \"Element\",\n      \"properties\": {\n        \"dtype\": \"string\",\n        \"num_unique_values\": 3,\n        \"samples\": [\n          \"Food supply (kcal/capita/day)\"\n        ],\n        \"semantic_type\": \"\",\n        \"description\": \"\"\n      }\n    },\n    {\n      \"column\": \"Unit\",\n      \"properties\": {\n        \"dtype\": \"category\",\n        \"num_unique_values\": 2,\n        \"samples\": [\n          \"g/capita/day\"\n        ],\n        \"semantic_type\": \"\",\n        \"description\": \"\"\n      }\n    },\n    {\n      \"column\": \"Y2014\",\n      \"properties\": {\n        \"dtype\": \"number\",\n        \"std\": 1690.9534404589617,\n        \"min\": 67.14,\n        \"max\": 3377.0,\n        \"num_unique_values\": 5,\n        \"samples\": [\n          94.9\n        ],\n        \"semantic_type\": \"\",\n        \"description\": \"\"\n      }\n    },\n    {\n      \"column\": \"Y2015\",\n      \"properties\": {\n        \"dtype\": \"number\",\n        \"std\": 1698.0055496729096,\n        \"min\": 67.38,\n        \"max\": 3379.0,\n        \"num_unique_values\": 5,\n        \"samples\": [\n          94.35\n        ],\n        \"semantic_type\": \"\",\n        \"description\": \"\"\n      }\n    },\n    {\n      \"column\": \"Y2016\",\n      \"properties\": {\n        \"dtype\": \"number\",\n        \"std\": 1692.0654032335747,\n        \"min\": 67.37,\n        \"max\": 3372.0,\n        \"num_unique_values\": 5,\n        \"samples\": [\n          94.72\n        ],\n        \"semantic_type\": \"\",\n        \"description\": \"\"\n      }\n    },\n    {\n      \"column\": \"Y2017\",\n      \"properties\": {\n        \"dtype\": \"number\",\n        \"std\": 1677.8726314681933,\n        \"min\": 66.11,\n        \"max\": 3341.0,\n        \"num_unique_values\": 5,\n        \"samples\": [\n          92.82\n        ],\n        \"semantic_type\": \"\",\n        \"description\": \"\"\n      }\n    },\n    {\n      \"column\": \"Y2018\",\n      \"properties\": {\n        \"dtype\": \"number\",\n        \"std\": 1675.309686929554,\n        \"min\": 67.1,\n        \"max\": 3322.0,\n        \"num_unique_values\": 5,\n        \"samples\": [\n          91.83\n        ],\n        \"semantic_type\": \"\",\n        \"description\": \"\"\n      }\n    }\n  ]\n}"
            }
          },
          "metadata": {},
          "execution_count": 41
        }
      ]
    },
    {
      "cell_type": "markdown",
      "source": [
        "# QUESTION 6:\n",
        "\n",
        "\n",
        "A pandas Dataframe with dimensions (100,3) has how many features and observations?"
      ],
      "metadata": {
        "id": "dsktKNrc76Rj"
      }
    },
    {
      "cell_type": "code",
      "source": [
        "df.shape"
      ],
      "metadata": {
        "colab": {
          "base_uri": "https://localhost:8080/"
        },
        "id": "8yelO65S71kJ",
        "outputId": "eb67f6eb-b3b9-4bcc-9059-d0c550d879ed"
      },
      "execution_count": 42,
      "outputs": [
        {
          "output_type": "execute_result",
          "data": {
            "text/plain": [
              "(60943, 12)"
            ]
          },
          "metadata": {},
          "execution_count": 42
        }
      ]
    },
    {
      "cell_type": "markdown",
      "source": [
        "# QUESTION 7:\n",
        "\n",
        "Given the following numpy array\n",
        "\n",
        "array  = ([[94, 89, 63],\n",
        "\n",
        "             [93, 92, 48],\n",
        "\n",
        "             [92, 94, 56]])\n",
        "\n",
        "How would you select  the elements in bold and italics from the array?"
      ],
      "metadata": {
        "id": "LvxCeJrC8c5S"
      }
    },
    {
      "cell_type": "code",
      "source": [
        "array = np.array([[94, 89, 63],\n",
        "                  [93, 92, 48],\n",
        "                  [92, 94, 56]])"
      ],
      "metadata": {
        "id": "ETfvxpfw8jq6"
      },
      "execution_count": 45,
      "outputs": []
    },
    {
      "cell_type": "code",
      "source": [
        "array[ : 2, 1 : ]"
      ],
      "metadata": {
        "colab": {
          "base_uri": "https://localhost:8080/"
        },
        "id": "7d6Wfs_28o1z",
        "outputId": "746352c3-6a63-4161-9965-d9ffe93d8bee"
      },
      "execution_count": 46,
      "outputs": [
        {
          "output_type": "execute_result",
          "data": {
            "text/plain": [
              "array([[89, 63],\n",
              "       [92, 48]])"
            ]
          },
          "metadata": {},
          "execution_count": 46
        }
      ]
    },
    {
      "cell_type": "markdown",
      "source": [
        "# QUESTION 8:\n",
        "\n",
        "Select columns ‘Y2017’ and ‘Area’, Perform a groupby operation on ‘Area’.  Which of these Areas had the highest sum in 2017?"
      ],
      "metadata": {
        "id": "EEHLJzYQ9n48"
      }
    },
    {
      "cell_type": "code",
      "source": [
        "selected_data = df[['Y2017', 'Area']]\n",
        "\n",
        "# Group by 'Area' and sum the 'Y2017' values\n",
        "sum_by_area = selected_data.groupby('Area')['Y2017'].sum()\n",
        "\n",
        "# Find the maximum sum in 2017\n",
        "max_sum_2017 = sum_by_area.max()\n",
        "\n",
        "# Filter the DataFrame to find the Area with the maximum sum in 2017\n",
        "area_highest_sum_2017 = sum_by_area[sum_by_area == max_sum_2017].index[0]\n",
        "\n",
        "print(\"Area with the highest sum in 2017:\", area_highest_sum_2017)"
      ],
      "metadata": {
        "colab": {
          "base_uri": "https://localhost:8080/"
        },
        "id": "PTa7l406qbF5",
        "outputId": "5389ae72-dfd5-461c-93e4-966ebeacd1c6"
      },
      "execution_count": 28,
      "outputs": [
        {
          "output_type": "stream",
          "name": "stdout",
          "text": [
            "Area with the highest sum in 2017: Nigeria\n"
          ]
        }
      ]
    },
    {
      "cell_type": "markdown",
      "source": [
        "# QUESTION 9:\n",
        "\n",
        "Which of the following is a python inbuilt module?\n",
        "\n"
      ],
      "metadata": {
        "id": "1QTsWNxg99c6"
      }
    },
    {
      "cell_type": "markdown",
      "source": [
        "Answer is Maths"
      ],
      "metadata": {
        "id": "hvtDyviI_WIn"
      }
    },
    {
      "cell_type": "markdown",
      "source": [
        "# QUESTION 10:\n",
        "\n",
        "How would you check for the number of rows and columns in a pandas DataFrame named df?"
      ],
      "metadata": {
        "id": "M8l1Qh2u_ZMJ"
      }
    },
    {
      "cell_type": "code",
      "source": [
        "df.shape"
      ],
      "metadata": {
        "colab": {
          "base_uri": "https://localhost:8080/"
        },
        "id": "mFwBSPQ7aBRo",
        "outputId": "6a3a6c15-6281-48b1-d5a1-3e44c2b0e201"
      },
      "execution_count": 26,
      "outputs": [
        {
          "output_type": "execute_result",
          "data": {
            "text/plain": [
              "(60943, 12)"
            ]
          },
          "metadata": {},
          "execution_count": 26
        }
      ]
    },
    {
      "cell_type": "markdown",
      "source": [
        "# QUESTION 11:\n",
        "\n",
        "If you have the following list\n",
        "\n",
        "lst = [[35, 'Portugal', 94], [33, 'Argentina', 93], [30 , 'Brazil', 92]]\n",
        "\n",
        "col = [‘Age’,’Nationality’,’Overall’]\n",
        "\n",
        "How do you create a pandas DataFrame using this list, to look like the table below?\n",
        "\n",
        "![48231470b3a81741f000.png](data:image/png;base64,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)"
      ],
      "metadata": {
        "id": "zw14jUAN_mDr"
      }
    },
    {
      "cell_type": "code",
      "source": [
        "lst = [[35, 'Portugal', 94], [33, 'Argentina', 93], [30 , 'Brazil', 92]]\n",
        "\n",
        "col = ['Age','Nationality','Overall']"
      ],
      "metadata": {
        "id": "Lw2e9KjiAAzD"
      },
      "execution_count": 50,
      "outputs": []
    },
    {
      "cell_type": "code",
      "source": [
        "\n",
        "pd.DataFrame(lst, columns = col, index = [i for i in range(1,4)])"
      ],
      "metadata": {
        "colab": {
          "base_uri": "https://localhost:8080/",
          "height": 143
        },
        "id": "lho_nl_x_ytn",
        "outputId": "be0a00c5-bc4a-4c64-aa55-c42ac33170bb"
      },
      "execution_count": 51,
      "outputs": [
        {
          "output_type": "execute_result",
          "data": {
            "text/plain": [
              "   Age Nationality  Overall\n",
              "1   35    Portugal       94\n",
              "2   33   Argentina       93\n",
              "3   30      Brazil       92"
            ],
            "text/html": [
              "\n",
              "  <div id=\"df-15ba8ba2-40dc-4d12-a7bc-d28ef3c3c446\" class=\"colab-df-container\">\n",
              "    <div>\n",
              "<style scoped>\n",
              "    .dataframe tbody tr th:only-of-type {\n",
              "        vertical-align: middle;\n",
              "    }\n",
              "\n",
              "    .dataframe tbody tr th {\n",
              "        vertical-align: top;\n",
              "    }\n",
              "\n",
              "    .dataframe thead th {\n",
              "        text-align: right;\n",
              "    }\n",
              "</style>\n",
              "<table border=\"1\" class=\"dataframe\">\n",
              "  <thead>\n",
              "    <tr style=\"text-align: right;\">\n",
              "      <th></th>\n",
              "      <th>Age</th>\n",
              "      <th>Nationality</th>\n",
              "      <th>Overall</th>\n",
              "    </tr>\n",
              "  </thead>\n",
              "  <tbody>\n",
              "    <tr>\n",
              "      <th>1</th>\n",
              "      <td>35</td>\n",
              "      <td>Portugal</td>\n",
              "      <td>94</td>\n",
              "    </tr>\n",
              "    <tr>\n",
              "      <th>2</th>\n",
              "      <td>33</td>\n",
              "      <td>Argentina</td>\n",
              "      <td>93</td>\n",
              "    </tr>\n",
              "    <tr>\n",
              "      <th>3</th>\n",
              "      <td>30</td>\n",
              "      <td>Brazil</td>\n",
              "      <td>92</td>\n",
              "    </tr>\n",
              "  </tbody>\n",
              "</table>\n",
              "</div>\n",
              "    <div class=\"colab-df-buttons\">\n",
              "\n",
              "  <div class=\"colab-df-container\">\n",
              "    <button class=\"colab-df-convert\" onclick=\"convertToInteractive('df-15ba8ba2-40dc-4d12-a7bc-d28ef3c3c446')\"\n",
              "            title=\"Convert this dataframe to an interactive table.\"\n",
              "            style=\"display:none;\">\n",
              "\n",
              "  <svg xmlns=\"http://www.w3.org/2000/svg\" height=\"24px\" viewBox=\"0 -960 960 960\">\n",
              "    <path d=\"M120-120v-720h720v720H120Zm60-500h600v-160H180v160Zm220 220h160v-160H400v160Zm0 220h160v-160H400v160ZM180-400h160v-160H180v160Zm440 0h160v-160H620v160ZM180-180h160v-160H180v160Zm440 0h160v-160H620v160Z\"/>\n",
              "  </svg>\n",
              "    </button>\n",
              "\n",
              "  <style>\n",
              "    .colab-df-container {\n",
              "      display:flex;\n",
              "      gap: 12px;\n",
              "    }\n",
              "\n",
              "    .colab-df-convert {\n",
              "      background-color: #E8F0FE;\n",
              "      border: none;\n",
              "      border-radius: 50%;\n",
              "      cursor: pointer;\n",
              "      display: none;\n",
              "      fill: #1967D2;\n",
              "      height: 32px;\n",
              "      padding: 0 0 0 0;\n",
              "      width: 32px;\n",
              "    }\n",
              "\n",
              "    .colab-df-convert:hover {\n",
              "      background-color: #E2EBFA;\n",
              "      box-shadow: 0px 1px 2px rgba(60, 64, 67, 0.3), 0px 1px 3px 1px rgba(60, 64, 67, 0.15);\n",
              "      fill: #174EA6;\n",
              "    }\n",
              "\n",
              "    .colab-df-buttons div {\n",
              "      margin-bottom: 4px;\n",
              "    }\n",
              "\n",
              "    [theme=dark] .colab-df-convert {\n",
              "      background-color: #3B4455;\n",
              "      fill: #D2E3FC;\n",
              "    }\n",
              "\n",
              "    [theme=dark] .colab-df-convert:hover {\n",
              "      background-color: #434B5C;\n",
              "      box-shadow: 0px 1px 3px 1px rgba(0, 0, 0, 0.15);\n",
              "      filter: drop-shadow(0px 1px 2px rgba(0, 0, 0, 0.3));\n",
              "      fill: #FFFFFF;\n",
              "    }\n",
              "  </style>\n",
              "\n",
              "    <script>\n",
              "      const buttonEl =\n",
              "        document.querySelector('#df-15ba8ba2-40dc-4d12-a7bc-d28ef3c3c446 button.colab-df-convert');\n",
              "      buttonEl.style.display =\n",
              "        google.colab.kernel.accessAllowed ? 'block' : 'none';\n",
              "\n",
              "      async function convertToInteractive(key) {\n",
              "        const element = document.querySelector('#df-15ba8ba2-40dc-4d12-a7bc-d28ef3c3c446');\n",
              "        const dataTable =\n",
              "          await google.colab.kernel.invokeFunction('convertToInteractive',\n",
              "                                                    [key], {});\n",
              "        if (!dataTable) return;\n",
              "\n",
              "        const docLinkHtml = 'Like what you see? Visit the ' +\n",
              "          '<a target=\"_blank\" href=https://colab.research.google.com/notebooks/data_table.ipynb>data table notebook</a>'\n",
              "          + ' to learn more about interactive tables.';\n",
              "        element.innerHTML = '';\n",
              "        dataTable['output_type'] = 'display_data';\n",
              "        await google.colab.output.renderOutput(dataTable, element);\n",
              "        const docLink = document.createElement('div');\n",
              "        docLink.innerHTML = docLinkHtml;\n",
              "        element.appendChild(docLink);\n",
              "      }\n",
              "    </script>\n",
              "  </div>\n",
              "\n",
              "\n",
              "<div id=\"df-4e465d91-ce9d-45d4-a184-a1ea08de8c34\">\n",
              "  <button class=\"colab-df-quickchart\" onclick=\"quickchart('df-4e465d91-ce9d-45d4-a184-a1ea08de8c34')\"\n",
              "            title=\"Suggest charts\"\n",
              "            style=\"display:none;\">\n",
              "\n",
              "<svg xmlns=\"http://www.w3.org/2000/svg\" height=\"24px\"viewBox=\"0 0 24 24\"\n",
              "     width=\"24px\">\n",
              "    <g>\n",
              "        <path d=\"M19 3H5c-1.1 0-2 .9-2 2v14c0 1.1.9 2 2 2h14c1.1 0 2-.9 2-2V5c0-1.1-.9-2-2-2zM9 17H7v-7h2v7zm4 0h-2V7h2v10zm4 0h-2v-4h2v4z\"/>\n",
              "    </g>\n",
              "</svg>\n",
              "  </button>\n",
              "\n",
              "<style>\n",
              "  .colab-df-quickchart {\n",
              "      --bg-color: #E8F0FE;\n",
              "      --fill-color: #1967D2;\n",
              "      --hover-bg-color: #E2EBFA;\n",
              "      --hover-fill-color: #174EA6;\n",
              "      --disabled-fill-color: #AAA;\n",
              "      --disabled-bg-color: #DDD;\n",
              "  }\n",
              "\n",
              "  [theme=dark] .colab-df-quickchart {\n",
              "      --bg-color: #3B4455;\n",
              "      --fill-color: #D2E3FC;\n",
              "      --hover-bg-color: #434B5C;\n",
              "      --hover-fill-color: #FFFFFF;\n",
              "      --disabled-bg-color: #3B4455;\n",
              "      --disabled-fill-color: #666;\n",
              "  }\n",
              "\n",
              "  .colab-df-quickchart {\n",
              "    background-color: var(--bg-color);\n",
              "    border: none;\n",
              "    border-radius: 50%;\n",
              "    cursor: pointer;\n",
              "    display: none;\n",
              "    fill: var(--fill-color);\n",
              "    height: 32px;\n",
              "    padding: 0;\n",
              "    width: 32px;\n",
              "  }\n",
              "\n",
              "  .colab-df-quickchart:hover {\n",
              "    background-color: var(--hover-bg-color);\n",
              "    box-shadow: 0 1px 2px rgba(60, 64, 67, 0.3), 0 1px 3px 1px rgba(60, 64, 67, 0.15);\n",
              "    fill: var(--button-hover-fill-color);\n",
              "  }\n",
              "\n",
              "  .colab-df-quickchart-complete:disabled,\n",
              "  .colab-df-quickchart-complete:disabled:hover {\n",
              "    background-color: var(--disabled-bg-color);\n",
              "    fill: var(--disabled-fill-color);\n",
              "    box-shadow: none;\n",
              "  }\n",
              "\n",
              "  .colab-df-spinner {\n",
              "    border: 2px solid var(--fill-color);\n",
              "    border-color: transparent;\n",
              "    border-bottom-color: var(--fill-color);\n",
              "    animation:\n",
              "      spin 1s steps(1) infinite;\n",
              "  }\n",
              "\n",
              "  @keyframes spin {\n",
              "    0% {\n",
              "      border-color: transparent;\n",
              "      border-bottom-color: var(--fill-color);\n",
              "      border-left-color: var(--fill-color);\n",
              "    }\n",
              "    20% {\n",
              "      border-color: transparent;\n",
              "      border-left-color: var(--fill-color);\n",
              "      border-top-color: var(--fill-color);\n",
              "    }\n",
              "    30% {\n",
              "      border-color: transparent;\n",
              "      border-left-color: var(--fill-color);\n",
              "      border-top-color: var(--fill-color);\n",
              "      border-right-color: var(--fill-color);\n",
              "    }\n",
              "    40% {\n",
              "      border-color: transparent;\n",
              "      border-right-color: var(--fill-color);\n",
              "      border-top-color: var(--fill-color);\n",
              "    }\n",
              "    60% {\n",
              "      border-color: transparent;\n",
              "      border-right-color: var(--fill-color);\n",
              "    }\n",
              "    80% {\n",
              "      border-color: transparent;\n",
              "      border-right-color: var(--fill-color);\n",
              "      border-bottom-color: var(--fill-color);\n",
              "    }\n",
              "    90% {\n",
              "      border-color: transparent;\n",
              "      border-bottom-color: var(--fill-color);\n",
              "    }\n",
              "  }\n",
              "</style>\n",
              "\n",
              "  <script>\n",
              "    async function quickchart(key) {\n",
              "      const quickchartButtonEl =\n",
              "        document.querySelector('#' + key + ' button');\n",
              "      quickchartButtonEl.disabled = true;  // To prevent multiple clicks.\n",
              "      quickchartButtonEl.classList.add('colab-df-spinner');\n",
              "      try {\n",
              "        const charts = await google.colab.kernel.invokeFunction(\n",
              "            'suggestCharts', [key], {});\n",
              "      } catch (error) {\n",
              "        console.error('Error during call to suggestCharts:', error);\n",
              "      }\n",
              "      quickchartButtonEl.classList.remove('colab-df-spinner');\n",
              "      quickchartButtonEl.classList.add('colab-df-quickchart-complete');\n",
              "    }\n",
              "    (() => {\n",
              "      let quickchartButtonEl =\n",
              "        document.querySelector('#df-4e465d91-ce9d-45d4-a184-a1ea08de8c34 button');\n",
              "      quickchartButtonEl.style.display =\n",
              "        google.colab.kernel.accessAllowed ? 'block' : 'none';\n",
              "    })();\n",
              "  </script>\n",
              "</div>\n",
              "\n",
              "    </div>\n",
              "  </div>\n"
            ],
            "application/vnd.google.colaboratory.intrinsic+json": {
              "type": "dataframe",
              "summary": "{\n  \"name\": \"pd\",\n  \"rows\": 3,\n  \"fields\": [\n    {\n      \"column\": \"Age\",\n      \"properties\": {\n        \"dtype\": \"number\",\n        \"std\": 2,\n        \"min\": 30,\n        \"max\": 35,\n        \"num_unique_values\": 3,\n        \"samples\": [\n          35,\n          33,\n          30\n        ],\n        \"semantic_type\": \"\",\n        \"description\": \"\"\n      }\n    },\n    {\n      \"column\": \"Nationality\",\n      \"properties\": {\n        \"dtype\": \"string\",\n        \"num_unique_values\": 3,\n        \"samples\": [\n          \"Portugal\",\n          \"Argentina\",\n          \"Brazil\"\n        ],\n        \"semantic_type\": \"\",\n        \"description\": \"\"\n      }\n    },\n    {\n      \"column\": \"Overall\",\n      \"properties\": {\n        \"dtype\": \"number\",\n        \"std\": 1,\n        \"min\": 92,\n        \"max\": 94,\n        \"num_unique_values\": 3,\n        \"samples\": [\n          94,\n          93,\n          92\n        ],\n        \"semantic_type\": \"\",\n        \"description\": \"\"\n      }\n    }\n  ]\n}"
            }
          },
          "metadata": {},
          "execution_count": 51
        }
      ]
    },
    {
      "cell_type": "markdown",
      "source": [
        "# QUESTION 12:\n",
        "\n",
        "\n",
        "What is the total Protein supply quantity in Madagascar in 2015?"
      ],
      "metadata": {
        "id": "pHEAQSXNAqsk"
      }
    },
    {
      "cell_type": "code",
      "source": [
        "# Filter data for Madagascar and select the 'Y2015' column\n",
        "madagascar_protein_2015 = df[(df['Area'] == 'Madagascar')]['Y2015']\n",
        "\n",
        "# Sum up the protein supply quantity for Madagascar in 2015\n",
        "total_protein_madagascar_2015 = madagascar_protein_2015.sum()\n",
        "\n",
        "print(\"Total protein supply quantity in Madagascar in 2015:\", total_protein_madagascar_2015)"
      ],
      "metadata": {
        "colab": {
          "base_uri": "https://localhost:8080/"
        },
        "id": "i1TVBU0-bx9Y",
        "outputId": "0729843f-3be8-491c-bb57-e358fc23db0a"
      },
      "execution_count": 25,
      "outputs": [
        {
          "output_type": "stream",
          "name": "stdout",
          "text": [
            "Total protein supply quantity in Madagascar in 2015: 126674.9\n"
          ]
        }
      ]
    },
    {
      "cell_type": "markdown",
      "source": [
        "# QUESTION 13:\n",
        "\n",
        "What is the mean and standard deviation across the whole dataset for the year 2017 to 2 decimal places?"
      ],
      "metadata": {
        "id": "TFQgaFC6a4xw"
      }
    },
    {
      "cell_type": "code",
      "source": [
        "y2017_data = df['Y2017']\n",
        "\n",
        "# Calculating the mean and standard deviation for the year 2017\n",
        "mean_2017 = y2017_data.mean()\n",
        "std_dev_2017 = y2017_data.std()\n",
        "\n",
        "# Rounding the values to 2 decimal places\n",
        "mean_2017_rounded = round(mean_2017, 2)\n",
        "std_dev_2017_rounded = round(std_dev_2017, 2)\n",
        "\n",
        "print(\"Mean for the year 2017:\", mean_2017_rounded)\n",
        "print(\"Standard deviation for the year 2017:\", std_dev_2017_rounded)"
      ],
      "metadata": {
        "colab": {
          "base_uri": "https://localhost:8080/"
        },
        "id": "EH_OyLfBc_p5",
        "outputId": "ba4b520e-9122-4020-e93b-bfeda02f839b"
      },
      "execution_count": 24,
      "outputs": [
        {
          "output_type": "stream",
          "name": "stdout",
          "text": [
            "Mean for the year 2017: 140.92\n",
            "Standard deviation for the year 2017: 1671.86\n"
          ]
        }
      ]
    },
    {
      "cell_type": "markdown",
      "source": [
        "# QUESTION 14:\n",
        "\n",
        "Answer the following questions based on the African food production dataset provided by the FAO website already provided\n",
        "\n",
        "What is the total sum of Wine produced in 2015 and 2018 respectively?\n",
        "\n",
        "Hint:\n",
        "\n",
        "Perform a groupby sum aggregation on ‘Item’"
      ],
      "metadata": {
        "id": "5ks4UET8BrIz"
      }
    },
    {
      "cell_type": "code",
      "source": [
        "wine_2015 = df[(df['Item'] == 'Wine')]['Y2015'].sum()\n",
        "wine_2018 = df[(df['Item'] == 'Wine')]['Y2018'].sum()\n",
        "\n",
        "print(\"Total sum of Wine produced in 2015:\", wine_2015)\n",
        "print(\"Total sum of Wine produced in 2018:\", wine_2018)"
      ],
      "metadata": {
        "colab": {
          "base_uri": "https://localhost:8080/"
        },
        "id": "rNXiqD_vdd_S",
        "outputId": "095f97d5-6fd2-4523-dcef-92c6c6db7b6e"
      },
      "execution_count": 23,
      "outputs": [
        {
          "output_type": "stream",
          "name": "stdout",
          "text": [
            "Total sum of Wine produced in 2015: 4251.8099999999995\n",
            "Total sum of Wine produced in 2018: 4039.3199999999997\n"
          ]
        }
      ]
    },
    {
      "cell_type": "markdown",
      "source": [
        "# QUESTION 15:\n",
        "\n",
        "What would be the output for?\n",
        "\n",
        "S = [['him', 'sell'], [90, 28, 43]]\n",
        "\n",
        "S[0][1][1]"
      ],
      "metadata": {
        "id": "bn6_dvKrB5kK"
      }
    },
    {
      "cell_type": "code",
      "source": [
        "S = [['him', 'sell'], [90, 28, 43]]"
      ],
      "metadata": {
        "id": "GAA-CvMjCKx6"
      },
      "execution_count": 53,
      "outputs": []
    },
    {
      "cell_type": "code",
      "source": [
        "S[0][1][1]"
      ],
      "metadata": {
        "colab": {
          "base_uri": "https://localhost:8080/",
          "height": 35
        },
        "id": "J5DlYA1bCRoz",
        "outputId": "c6d187ab-576b-4647-8185-18883913b5fd"
      },
      "execution_count": 54,
      "outputs": [
        {
          "output_type": "execute_result",
          "data": {
            "text/plain": [
              "'e'"
            ],
            "application/vnd.google.colaboratory.intrinsic+json": {
              "type": "string"
            }
          },
          "metadata": {},
          "execution_count": 54
        }
      ]
    },
    {
      "cell_type": "markdown",
      "source": [
        "# QUESTION 16:\n",
        "\n",
        "Which year had the least correlation with ‘Element Code’?"
      ],
      "metadata": {
        "id": "yTB8aX5yCUUA"
      }
    },
    {
      "cell_type": "code",
      "source": [
        "\n",
        "data = df[['Element Code', 'Y2014', 'Y2015', 'Y2016', 'Y2017', 'Y2018']]\n",
        "\n",
        "# Calculating correlation coefficients with 'Element Code'\n",
        "correlations = data.corr()['Element Code'].drop('Element Code')\n",
        "\n",
        "# Finding the year with the least correlation\n",
        "year_least_correlation = correlations.idxmin()\n",
        "\n",
        "print(\"Year with the least correlation with 'Element Code':\", year_least_correlation)"
      ],
      "metadata": {
        "colab": {
          "base_uri": "https://localhost:8080/"
        },
        "id": "aRMM4hMIeX4v",
        "outputId": "36f703e6-8d49-400d-c0bf-609a8dc5e65e"
      },
      "execution_count": 55,
      "outputs": [
        {
          "output_type": "stream",
          "name": "stdout",
          "text": [
            "Year with the least correlation with 'Element Code': Y2016\n"
          ]
        }
      ]
    },
    {
      "cell_type": "markdown",
      "source": [
        "# QUESTION 17:\n",
        "\n",
        "Perform a groupby operation on ‘Element’.  What year has the highest sum of Stock Variation?\n"
      ],
      "metadata": {
        "id": "vs03nzaBCnUe"
      }
    },
    {
      "cell_type": "markdown",
      "source": [
        "# QUESTION 18:\n",
        "\n",
        "Given the following python code, what would the output of the code give?\n",
        "\n",
        "my_tuppy = (1,2,5,8)\n",
        "\n",
        "my_tuppy[2] = 6"
      ],
      "metadata": {
        "id": "Z8vajGQ-C167"
      }
    },
    {
      "cell_type": "code",
      "source": [
        "my_tuppy = (1,2,5,8)\n",
        "\n",
        "my_tuppy[2] = 6"
      ],
      "metadata": {
        "colab": {
          "base_uri": "https://localhost:8080/",
          "height": 176
        },
        "id": "MbaImSd0C_bk",
        "outputId": "93ab0464-7a44-407e-8459-1331ccff2c14"
      },
      "execution_count": 56,
      "outputs": [
        {
          "output_type": "error",
          "ename": "TypeError",
          "evalue": "'tuple' object does not support item assignment",
          "traceback": [
            "\u001b[0;31m---------------------------------------------------------------------------\u001b[0m",
            "\u001b[0;31mTypeError\u001b[0m                                 Traceback (most recent call last)",
            "\u001b[0;32m<ipython-input-56-ce1543b3be47>\u001b[0m in \u001b[0;36m<cell line: 3>\u001b[0;34m()\u001b[0m\n\u001b[1;32m      1\u001b[0m \u001b[0mmy_tuppy\u001b[0m \u001b[0;34m=\u001b[0m \u001b[0;34m(\u001b[0m\u001b[0;36m1\u001b[0m\u001b[0;34m,\u001b[0m\u001b[0;36m2\u001b[0m\u001b[0;34m,\u001b[0m\u001b[0;36m5\u001b[0m\u001b[0;34m,\u001b[0m\u001b[0;36m8\u001b[0m\u001b[0;34m)\u001b[0m\u001b[0;34m\u001b[0m\u001b[0;34m\u001b[0m\u001b[0m\n\u001b[1;32m      2\u001b[0m \u001b[0;34m\u001b[0m\u001b[0m\n\u001b[0;32m----> 3\u001b[0;31m \u001b[0mmy_tuppy\u001b[0m\u001b[0;34m[\u001b[0m\u001b[0;36m2\u001b[0m\u001b[0;34m]\u001b[0m \u001b[0;34m=\u001b[0m \u001b[0;36m6\u001b[0m\u001b[0;34m\u001b[0m\u001b[0;34m\u001b[0m\u001b[0m\n\u001b[0m",
            "\u001b[0;31mTypeError\u001b[0m: 'tuple' object does not support item assignment"
          ]
        }
      ]
    },
    {
      "cell_type": "markdown",
      "source": [
        "# QUESTION 19:\n",
        "\n",
        "Which of these python data structures is unorderly?"
      ],
      "metadata": {
        "id": "tS439meADCyF"
      }
    },
    {
      "cell_type": "markdown",
      "source": [
        "Answer: Set"
      ],
      "metadata": {
        "id": "yPhOIsKfDUUD"
      }
    },
    {
      "cell_type": "markdown",
      "source": [
        "# QUESTION 20:\n",
        "\n",
        "What is the total number of unique countries in the dataset?"
      ],
      "metadata": {
        "id": "2TGbCaWHDcKm"
      }
    },
    {
      "cell_type": "code",
      "source": [
        "total_unique_countries = df['Area'].nunique()\n",
        "\n",
        "print(\"Total number of unique countries in the dataset:\", total_unique_countries)\n"
      ],
      "metadata": {
        "colab": {
          "base_uri": "https://localhost:8080/"
        },
        "id": "NZxXOpBkgRgh",
        "outputId": "b87fda70-3e69-4ac6-9b2c-4dc97545c56a"
      },
      "execution_count": 21,
      "outputs": [
        {
          "output_type": "stream",
          "name": "stdout",
          "text": [
            "Total number of unique countries in the dataset: 49\n"
          ]
        }
      ]
    }
  ]
}